{
 "cells": [
  {
   "cell_type": "markdown",
   "metadata": {},
   "source": [
    "> ###### Write a function to find the longest common prefix string amongst an array of strings. If there is no common prefix, return an empty string \"\"."
   ]
  },
  {
   "cell_type": "code",
   "execution_count": null,
   "metadata": {},
   "outputs": [],
   "source": [
    "def longestCommonPrefix(strs):\n",
    "    _len = 100000\n",
    "    for s in strs:\n",
    "        _len = min(_len,len(s))\n",
    "    pre=''\n",
    "    value=[]\n",
    "    for i in range(_len):\n",
    "        for j in range(len(strs)):\n",
    "            chk=strs[0][i]\n",
    "            if strs[j][i]==chk:\n",
    "                value.append(int(1))\n",
    "            else:\n",
    "                value.append(int(0))\n",
    "        if value and min(value)==1:\n",
    "            pre+=chk\n",
    "        else:\n",
    "            continue\n",
    "    return pre\n",
    "\n",
    "            "
   ]
  },
  {
   "cell_type": "code",
   "execution_count": 7,
   "metadata": {},
   "outputs": [
    {
     "data": {
      "text/plain": [
       "'fl'"
      ]
     },
     "execution_count": 7,
     "metadata": {},
     "output_type": "execute_result"
    }
   ],
   "source": [
    "ip = ['flower','flow','flight']\n",
    "longestCommonPrefix(ip)"
   ]
  },
  {
   "cell_type": "markdown",
   "metadata": {},
   "source": [
    "> ###### Given a string, find the length of the longest substring without repeating characters."
   ]
  },
  {
   "cell_type": "code",
   "execution_count": 58,
   "metadata": {},
   "outputs": [],
   "source": [
    "def lengthOfLongestSubstring(s):\n",
    "    \"\"\"\n",
    "    :type s: str\n",
    "    :rtype: int\n",
    "    \"\"\"\n",
    "    dic={}\n",
    "    substr=''\n",
    "    i=0\n",
    "    if len(s)>1:        \n",
    "        while i<len(s):\n",
    "            if s[i] not in substr:\n",
    "                substr+=s[i]\n",
    "                if i!=len(s)-1:\n",
    "                    i+=1\n",
    "                else:\n",
    "                    dic[substr]=len(substr)\n",
    "                    i+=1\n",
    "            else:\n",
    "                dic[substr]=len(substr)\n",
    "    #             print(dic, max(dic.values()))\n",
    "                substr = substr.split(s[i])[-1]\n",
    "        return(max(dic.values()))\n",
    "    else:\n",
    "        return(len(s))    \n"
   ]
  },
  {
   "cell_type": "code",
   "execution_count": 59,
   "metadata": {},
   "outputs": [
    {
     "data": {
      "text/plain": [
       "2"
      ]
     },
     "execution_count": 59,
     "metadata": {},
     "output_type": "execute_result"
    }
   ],
   "source": [
    "s='au'\n",
    "lengthOfLongestSubstring(s)"
   ]
  },
  {
   "cell_type": "markdown",
   "metadata": {},
   "source": [
    "> ###### Given a string s, find the longest palindromic substring in s. You may assume that the maximum length of s is 1000."
   ]
  },
  {
   "cell_type": "code",
   "execution_count": 59,
   "metadata": {},
   "outputs": [],
   "source": [
    "def longestPalindrome(s):\n",
    "    \"\"\"\n",
    "    :type s: str\n",
    "    :rtype: str\n",
    "    \"\"\"\n",
    "    dic={}\n",
    "    for i in range(len(s)-1):\n",
    "        for j in range(i+1,len(s)+1):\n",
    "            chk=s[i:j]\n",
    "            if chk==chk[::-1]:\n",
    "                dic[len(chk)]=chk\n",
    "            else:\n",
    "                continue\n",
    "    if dic and len(s)>1:\n",
    "        return(dic[max(dic.keys())])\n",
    "    elif len(s)==1:\n",
    "        return(s)\n",
    "    else:\n",
    "        return('')\n"
   ]
  },
  {
   "cell_type": "code",
   "execution_count": 60,
   "metadata": {},
   "outputs": [
    {
     "data": {
      "text/plain": [
       "'aba'"
      ]
     },
     "execution_count": 60,
     "metadata": {},
     "output_type": "execute_result"
    }
   ],
   "source": [
    "s='aba'\n",
    "longestPalindrome(s)"
   ]
  },
  {
   "cell_type": "code",
   "execution_count": null,
   "metadata": {},
   "outputs": [],
   "source": []
  }
 ],
 "metadata": {
  "kernelspec": {
   "display_name": "Python 3",
   "language": "python",
   "name": "python3"
  },
  "language_info": {
   "codemirror_mode": {
    "name": "ipython",
    "version": 3
   },
   "file_extension": ".py",
   "mimetype": "text/x-python",
   "name": "python",
   "nbconvert_exporter": "python",
   "pygments_lexer": "ipython3",
   "version": "3.7.3"
  }
 },
 "nbformat": 4,
 "nbformat_minor": 2
}

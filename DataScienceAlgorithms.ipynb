{
 "cells": [
  {
   "cell_type": "markdown",
   "metadata": {},
   "source": [
    "> ###### Write a function to find the longest common prefix string amongst an array of strings. If there is no common prefix, return an empty string \"\"."
   ]
  },
  {
   "cell_type": "code",
   "execution_count": 3,
   "metadata": {},
   "outputs": [],
   "source": [
    "def longestCommonPrefix(strs):\n",
    "    _len = 100000\n",
    "    for s in strs:\n",
    "        _len = min(_len,len(s))\n",
    "    pre=''\n",
    "    value=[]\n",
    "    for i in range(_len):\n",
    "        for j in range(len(strs)):\n",
    "            chk=strs[0][i]\n",
    "            if strs[j][i]==chk:\n",
    "                value.append(int(1))\n",
    "            else:\n",
    "                value.append(int(0))\n",
    "        if value and min(value)==1:\n",
    "            pre+=chk\n",
    "        else:\n",
    "            continue\n",
    "    return pre\n",
    "\n",
    "            "
   ]
  },
  {
   "cell_type": "code",
   "execution_count": 6,
   "metadata": {},
   "outputs": [
    {
     "data": {
      "text/plain": [
       "'fl'"
      ]
     },
     "execution_count": 6,
     "metadata": {},
     "output_type": "execute_result"
    }
   ],
   "source": [
    "ip = ['flower','flow','flight']\n",
    "ip1=[\"c\",\"acc\",\"ccc\"]\n",
    "longestCommonPrefix(ip)"
   ]
  },
  {
   "cell_type": "code",
   "execution_count": null,
   "metadata": {},
   "outputs": [],
   "source": []
  }
 ],
 "metadata": {
  "kernelspec": {
   "display_name": "Python 3",
   "language": "python",
   "name": "python3"
  },
  "language_info": {
   "codemirror_mode": {
    "name": "ipython",
    "version": 3
   },
   "file_extension": ".py",
   "mimetype": "text/x-python",
   "name": "python",
   "nbconvert_exporter": "python",
   "pygments_lexer": "ipython3",
   "version": "3.7.3"
  }
 },
 "nbformat": 4,
 "nbformat_minor": 2
}
